{
 "cells": [
  {
   "cell_type": "markdown",
   "id": "31d4d690",
   "metadata": {},
   "source": [
    "# Perceptron 2\n",
    "#### With bias en X0 = 1\n",
    "#### It is a very simple example, the perceptron will learn how to estimate the AND function"
   ]
  },
  {
   "cell_type": "code",
   "execution_count": 142,
   "id": "ec4f56d7",
   "metadata": {},
   "outputs": [],
   "source": [
    "import numpy as np\n",
    "from scipy import io, integrate, linalg, signal\n",
    "from scipy.sparse.linalg import eigs\n",
    "import matplotlib.pyplot as plt\n"
   ]
  },
  {
   "cell_type": "code",
   "execution_count": 143,
   "id": "593b851a",
   "metadata": {},
   "outputs": [
    {
     "data": {
      "text/plain": [
       "array([[1, 0, 0],\n",
       "       [1, 0, 1],\n",
       "       [1, 1, 0],\n",
       "       [1, 1, 1]])"
      ]
     },
     "execution_count": 143,
     "metadata": {},
     "output_type": "execute_result"
    }
   ],
   "source": [
    "X = np.array([ [1, 0, 0],\n",
    "               [1, 0, 1],\n",
    "               [1, 1, 0],\n",
    "               [1, 1, 1]])\n",
    "X"
   ]
  },
  {
   "cell_type": "code",
   "execution_count": 144,
   "id": "d12aefee",
   "metadata": {},
   "outputs": [
    {
     "data": {
      "text/plain": [
       "array([[ 0.48736894],\n",
       "       [-0.34008134],\n",
       "       [-0.02092779]])"
      ]
     },
     "execution_count": 144,
     "metadata": {},
     "output_type": "execute_result"
    }
   ],
   "source": [
    "W = np.random.rand(3,1)-0.5\n",
    "\n",
    "#W = np.array([[-0.3],\n",
    "#              [0.5],\n",
    "#              [0.4]])\n",
    "W"
   ]
  },
  {
   "cell_type": "code",
   "execution_count": 145,
   "id": "04390000",
   "metadata": {},
   "outputs": [
    {
     "data": {
      "text/plain": [
       "array([[0],\n",
       "       [0],\n",
       "       [0],\n",
       "       [1]])"
      ]
     },
     "execution_count": 145,
     "metadata": {},
     "output_type": "execute_result"
    }
   ],
   "source": [
    "D = np.array([[0],\n",
    "              [0],\n",
    "              [0],\n",
    "              [1]])\n",
    "D"
   ]
  },
  {
   "cell_type": "code",
   "execution_count": 146,
   "id": "1b062b91",
   "metadata": {},
   "outputs": [
    {
     "name": "stdout",
     "output_type": "stream",
     "text": [
      "0.4873689434558216\n"
     ]
    }
   ],
   "source": [
    "print(X[0]@W[:,0])"
   ]
  },
  {
   "cell_type": "code",
   "execution_count": null,
   "id": "d546bf63",
   "metadata": {},
   "outputs": [],
   "source": []
  },
  {
   "cell_type": "code",
   "execution_count": 147,
   "id": "1546cf82",
   "metadata": {},
   "outputs": [
    {
     "data": {
      "text/plain": [
       "(array([0.48736894]), array([-0.34008134]), array([-0.02092779]))"
      ]
     },
     "execution_count": 147,
     "metadata": {},
     "output_type": "execute_result"
    }
   ],
   "source": [
    "n = 0.1  # ratio of learn\n",
    "N = 50  # iterations\n",
    "j = 0    # run of matrix X\n",
    "k = 0\n",
    "DELTA = []\n",
    "w0 = np.array(W[0])\n",
    "w1 = np.array(W[1])\n",
    "w2 = np.array(W[2])\n",
    "\n",
    "# w0 = np.empty([0])\n",
    "# w1 = np.empty([0])\n",
    "# w2 = np.empty([0])\n",
    "\n",
    "\n",
    "w0, w1, w2"
   ]
  },
  {
   "cell_type": "code",
   "execution_count": 148,
   "id": "e2e3a1e0",
   "metadata": {},
   "outputs": [],
   "source": [
    "# W"
   ]
  },
  {
   "cell_type": "code",
   "execution_count": 149,
   "id": "899d6abe",
   "metadata": {},
   "outputs": [],
   "source": [
    "# W = W + ((n*delta)*X[j]).transpose()\n",
    "# delta = 1\n",
    "# print((n*delta)*X[j])\n",
    "# print(np.transpose((n*delta)*X[j]))\n",
    "# print(W + (n*delta)*X[j].reshape((-1,1)))"
   ]
  },
  {
   "cell_type": "code",
   "execution_count": 150,
   "id": "fa1d5158",
   "metadata": {},
   "outputs": [
    {
     "name": "stdout",
     "output_type": "stream",
     "text": [
      "Fv:  0.4873689434558216\n",
      "Y:  1\n",
      "[-1]\n",
      "W:  [[ 0.38736894]\n",
      " [-0.34008134]\n",
      " [-0.02092779]]\n",
      "Fv:  0.3664411577045097\n",
      "Y:  1\n",
      "[-1]\n",
      "W:  [[ 0.28736894]\n",
      " [-0.34008134]\n",
      " [-0.12092779]]\n",
      "Fv:  -0.052712396092895464\n",
      "Y:  0\n",
      "[0]\n",
      "W:  [[ 0.28736894]\n",
      " [-0.34008134]\n",
      " [-0.12092779]]\n",
      "Fv:  -0.1736401818442074\n",
      "Y:  0\n",
      "[1]\n",
      "W:  [[ 0.38736894]\n",
      " [-0.24008134]\n",
      " [-0.02092779]]\n",
      "Fv:  0.3873689434558216\n",
      "Y:  1\n",
      "[-1]\n",
      "W:  [[ 0.28736894]\n",
      " [-0.24008134]\n",
      " [-0.02092779]]\n",
      "Fv:  0.2664411577045097\n",
      "Y:  1\n",
      "[-1]\n",
      "W:  [[ 0.18736894]\n",
      " [-0.24008134]\n",
      " [-0.12092779]]\n",
      "Fv:  -0.052712396092895464\n",
      "Y:  0\n",
      "[0]\n",
      "W:  [[ 0.18736894]\n",
      " [-0.24008134]\n",
      " [-0.12092779]]\n",
      "Fv:  -0.1736401818442074\n",
      "Y:  0\n",
      "[1]\n",
      "W:  [[ 0.28736894]\n",
      " [-0.14008134]\n",
      " [-0.02092779]]\n",
      "Fv:  0.28736894345582165\n",
      "Y:  1\n",
      "[-1]\n",
      "W:  [[ 0.18736894]\n",
      " [-0.14008134]\n",
      " [-0.02092779]]\n",
      "Fv:  0.1664411577045097\n",
      "Y:  1\n",
      "[-1]\n",
      "W:  [[ 0.08736894]\n",
      " [-0.14008134]\n",
      " [-0.12092779]]\n",
      "Fv:  -0.052712396092895464\n",
      "Y:  0\n",
      "[0]\n",
      "W:  [[ 0.08736894]\n",
      " [-0.14008134]\n",
      " [-0.12092779]]\n",
      "Fv:  -0.1736401818442074\n",
      "Y:  0\n",
      "[1]\n",
      "W:  [[ 0.18736894]\n",
      " [-0.04008134]\n",
      " [-0.02092779]]\n",
      "Fv:  0.18736894345582164\n",
      "Y:  1\n",
      "[-1]\n",
      "W:  [[ 0.08736894]\n",
      " [-0.04008134]\n",
      " [-0.02092779]]\n",
      "Fv:  0.0664411577045097\n",
      "Y:  1\n",
      "[-1]\n",
      "W:  [[-0.01263106]\n",
      " [-0.04008134]\n",
      " [-0.12092779]]\n",
      "Fv:  -0.052712396092895464\n",
      "Y:  0\n",
      "[0]\n",
      "W:  [[-0.01263106]\n",
      " [-0.04008134]\n",
      " [-0.12092779]]\n",
      "Fv:  -0.1736401818442074\n",
      "Y:  0\n",
      "[1]\n",
      "W:  [[ 0.08736894]\n",
      " [ 0.05991866]\n",
      " [-0.02092779]]\n",
      "Fv:  0.08736894345582163\n",
      "Y:  1\n",
      "[-1]\n",
      "W:  [[-0.01263106]\n",
      " [ 0.05991866]\n",
      " [-0.02092779]]\n",
      "Fv:  -0.033558842295490304\n",
      "Y:  0\n",
      "[0]\n",
      "W:  [[-0.01263106]\n",
      " [ 0.05991866]\n",
      " [-0.02092779]]\n",
      "Fv:  0.04728760390710454\n",
      "Y:  1\n",
      "[-1]\n",
      "W:  [[-0.11263106]\n",
      " [-0.04008134]\n",
      " [-0.02092779]]\n",
      "Fv:  -0.1736401818442074\n",
      "Y:  0\n",
      "[1]\n",
      "W:  [[-0.01263106]\n",
      " [ 0.05991866]\n",
      " [ 0.07907221]]\n",
      "Fv:  -0.01263105654417837\n",
      "Y:  0\n",
      "[0]\n",
      "W:  [[-0.01263106]\n",
      " [ 0.05991866]\n",
      " [ 0.07907221]]\n",
      "Fv:  0.0664411577045097\n",
      "Y:  1\n",
      "[-1]\n",
      "W:  [[-0.11263106]\n",
      " [ 0.05991866]\n",
      " [-0.02092779]]\n",
      "Fv:  -0.052712396092895464\n",
      "Y:  0\n",
      "[0]\n",
      "W:  [[-0.11263106]\n",
      " [ 0.05991866]\n",
      " [-0.02092779]]\n",
      "Fv:  -0.0736401818442074\n",
      "Y:  0\n",
      "[1]\n",
      "W:  [[-0.01263106]\n",
      " [ 0.15991866]\n",
      " [ 0.07907221]]\n",
      "Fv:  -0.01263105654417837\n",
      "Y:  0\n",
      "[0]\n",
      "W:  [[-0.01263106]\n",
      " [ 0.15991866]\n",
      " [ 0.07907221]]\n",
      "Fv:  0.0664411577045097\n",
      "Y:  1\n",
      "[-1]\n",
      "W:  [[-0.11263106]\n",
      " [ 0.15991866]\n",
      " [-0.02092779]]\n",
      "Fv:  0.04728760390710454\n",
      "Y:  1\n",
      "[-1]\n",
      "W:  [[-0.21263106]\n",
      " [ 0.05991866]\n",
      " [-0.02092779]]\n",
      "Fv:  -0.1736401818442074\n",
      "Y:  0\n",
      "[1]\n",
      "W:  [[-0.11263106]\n",
      " [ 0.15991866]\n",
      " [ 0.07907221]]\n",
      "Fv:  -0.11263105654417838\n",
      "Y:  0\n",
      "[0]\n",
      "W:  [[-0.11263106]\n",
      " [ 0.15991866]\n",
      " [ 0.07907221]]\n",
      "Fv:  -0.033558842295490304\n",
      "Y:  0\n",
      "[0]\n",
      "W:  [[-0.11263106]\n",
      " [ 0.15991866]\n",
      " [ 0.07907221]]\n",
      "Fv:  0.04728760390710454\n",
      "Y:  1\n",
      "[-1]\n",
      "W:  [[-0.21263106]\n",
      " [ 0.05991866]\n",
      " [ 0.07907221]]\n",
      "Fv:  -0.0736401818442074\n",
      "Y:  0\n",
      "[1]\n",
      "W:  [[-0.11263106]\n",
      " [ 0.15991866]\n",
      " [ 0.17907221]]\n",
      "Fv:  -0.11263105654417838\n",
      "Y:  0\n",
      "[0]\n",
      "W:  [[-0.11263106]\n",
      " [ 0.15991866]\n",
      " [ 0.17907221]]\n",
      "Fv:  0.0664411577045097\n",
      "Y:  1\n",
      "[-1]\n",
      "W:  [[-0.21263106]\n",
      " [ 0.15991866]\n",
      " [ 0.07907221]]\n",
      "Fv:  -0.052712396092895464\n",
      "Y:  0\n",
      "[0]\n",
      "W:  [[-0.21263106]\n",
      " [ 0.15991866]\n",
      " [ 0.07907221]]\n",
      "Fv:  0.026359818155792608\n",
      "Y:  1\n",
      "[0]\n",
      "W:  [[-0.21263106]\n",
      " [ 0.15991866]\n",
      " [ 0.07907221]]\n",
      "Fv:  -0.21263105654417838\n",
      "Y:  0\n",
      "[0]\n",
      "W:  [[-0.21263106]\n",
      " [ 0.15991866]\n",
      " [ 0.07907221]]\n",
      "Fv:  -0.1335588422954903\n",
      "Y:  0\n",
      "[0]\n",
      "W:  [[-0.21263106]\n",
      " [ 0.15991866]\n",
      " [ 0.07907221]]\n",
      "Fv:  -0.052712396092895464\n",
      "Y:  0\n",
      "[0]\n",
      "W:  [[-0.21263106]\n",
      " [ 0.15991866]\n",
      " [ 0.07907221]]\n",
      "Fv:  0.026359818155792608\n",
      "Y:  1\n",
      "[0]\n",
      "W:  [[-0.21263106]\n",
      " [ 0.15991866]\n",
      " [ 0.07907221]]\n",
      "Fv:  -0.21263105654417838\n",
      "Y:  0\n",
      "[0]\n",
      "W:  [[-0.21263106]\n",
      " [ 0.15991866]\n",
      " [ 0.07907221]]\n",
      "Fv:  -0.1335588422954903\n",
      "Y:  0\n",
      "[0]\n",
      "W:  [[-0.21263106]\n",
      " [ 0.15991866]\n",
      " [ 0.07907221]]\n",
      "Fv:  -0.052712396092895464\n",
      "Y:  0\n",
      "[0]\n",
      "W:  [[-0.21263106]\n",
      " [ 0.15991866]\n",
      " [ 0.07907221]]\n",
      "Fv:  0.026359818155792608\n",
      "Y:  1\n",
      "[0]\n",
      "W:  [[-0.21263106]\n",
      " [ 0.15991866]\n",
      " [ 0.07907221]]\n",
      "Fv:  -0.21263105654417838\n",
      "Y:  0\n",
      "[0]\n",
      "W:  [[-0.21263106]\n",
      " [ 0.15991866]\n",
      " [ 0.07907221]]\n",
      "Fv:  -0.1335588422954903\n",
      "Y:  0\n",
      "[0]\n",
      "W:  [[-0.21263106]\n",
      " [ 0.15991866]\n",
      " [ 0.07907221]]\n",
      "Fv:  -0.052712396092895464\n",
      "Y:  0\n",
      "[0]\n",
      "W:  [[-0.21263106]\n",
      " [ 0.15991866]\n",
      " [ 0.07907221]]\n",
      "Fv:  0.026359818155792608\n",
      "Y:  1\n",
      "[0]\n",
      "W:  [[-0.21263106]\n",
      " [ 0.15991866]\n",
      " [ 0.07907221]]\n",
      "Fv:  -0.21263105654417838\n",
      "Y:  0\n",
      "[0]\n",
      "W:  [[-0.21263106]\n",
      " [ 0.15991866]\n",
      " [ 0.07907221]]\n",
      "Fv:  -0.1335588422954903\n",
      "Y:  0\n",
      "[0]\n",
      "W:  [[-0.21263106]\n",
      " [ 0.15991866]\n",
      " [ 0.07907221]]\n"
     ]
    },
    {
     "data": {
      "text/plain": [
       "array([-1., -1.,  0.,  1., -1., -1.,  0.,  1., -1., -1.,  0.,  1., -1.,\n",
       "       -1.,  0.,  1., -1.,  0., -1.,  1.,  0., -1.,  0.,  1.,  0., -1.,\n",
       "       -1.,  1.,  0.,  0., -1.,  1.,  0., -1.,  0.,  0.,  0.,  0.,  0.,\n",
       "        0.,  0.,  0.,  0.,  0.,  0.,  0.,  0.,  0.,  0.,  0.])"
      ]
     },
     "execution_count": 150,
     "metadata": {},
     "output_type": "execute_result"
    }
   ],
   "source": [
    "for i in np.arange(0,N):\n",
    "    Fv = X[j]@W[:,0]\n",
    "    print('Fv: ',Fv)\n",
    "    if Fv >= 0:\n",
    "        Y = 1\n",
    "    else:\n",
    "        Y = 0\n",
    "    print('Y: ',Y)\n",
    "    delta = D[j] - Y\n",
    "    print(delta)\n",
    "    W = W + ((n*delta)*X[j].reshape((-1,1)))\n",
    "    print('W: ',W)\n",
    "    w0 = np.append(w0, W[0])\n",
    "    w1 = np.append(w1, W[1])\n",
    "    w2 = np.append(w2, W[2])\n",
    "\n",
    "    DELTA = np.append(DELTA, delta)\n",
    "    j += 1\n",
    "    if j >= 4:\n",
    "        j = 0\n",
    "DELTA\n"
   ]
  },
  {
   "cell_type": "code",
   "execution_count": 151,
   "id": "b5dc9891",
   "metadata": {},
   "outputs": [
    {
     "data": {
      "text/plain": [
       "array([ 0.48736894,  0.38736894,  0.28736894,  0.28736894,  0.38736894,\n",
       "        0.28736894,  0.18736894,  0.18736894,  0.28736894,  0.18736894,\n",
       "        0.08736894,  0.08736894,  0.18736894,  0.08736894, -0.01263106,\n",
       "       -0.01263106,  0.08736894, -0.01263106, -0.01263106, -0.11263106,\n",
       "       -0.01263106, -0.01263106, -0.11263106, -0.11263106, -0.01263106,\n",
       "       -0.01263106, -0.11263106, -0.21263106, -0.11263106, -0.11263106,\n",
       "       -0.11263106, -0.21263106, -0.11263106, -0.11263106, -0.21263106,\n",
       "       -0.21263106, -0.21263106, -0.21263106, -0.21263106, -0.21263106,\n",
       "       -0.21263106, -0.21263106, -0.21263106, -0.21263106, -0.21263106,\n",
       "       -0.21263106, -0.21263106, -0.21263106, -0.21263106, -0.21263106,\n",
       "       -0.21263106])"
      ]
     },
     "execution_count": 151,
     "metadata": {},
     "output_type": "execute_result"
    }
   ],
   "source": [
    "w0"
   ]
  },
  {
   "cell_type": "code",
   "execution_count": 152,
   "id": "fa3298de",
   "metadata": {},
   "outputs": [
    {
     "data": {
      "text/plain": [
       "((51,), 50, (50,))"
      ]
     },
     "execution_count": 152,
     "metadata": {},
     "output_type": "execute_result"
    }
   ],
   "source": [
    "w0.shape, N, DELTA.shape"
   ]
  },
  {
   "cell_type": "code",
   "execution_count": 153,
   "id": "1c6d2ad8",
   "metadata": {},
   "outputs": [
    {
     "data": {
      "text/plain": [
       "array([ 0,  1,  2,  3,  4,  5,  6,  7,  8,  9, 10, 11, 12, 13, 14, 15, 16,\n",
       "       17, 18, 19, 20, 21, 22, 23, 24, 25, 26, 27, 28, 29, 30, 31, 32, 33,\n",
       "       34, 35, 36, 37, 38, 39, 40, 41, 42, 43, 44, 45, 46, 47, 48, 49])"
      ]
     },
     "execution_count": 153,
     "metadata": {},
     "output_type": "execute_result"
    }
   ],
   "source": [
    "iteration = np.arange(0,N)\n",
    "iteration\n"
   ]
  },
  {
   "cell_type": "code",
   "execution_count": 154,
   "id": "7ba3014c",
   "metadata": {},
   "outputs": [
    {
     "data": {
      "image/png": "[encoded data removed]",
      "text/plain": [
       "<Figure size 1296x360 with 4 Axes>"
      ]
     },
     "metadata": {
      "needs_background": "light"
     },
     "output_type": "display_data"
    }
   ],
   "source": [
    "# Listo, podemos usar las tres columnas\n",
    "fig = plt.figure(figsize=(18,5))\n",
    "ax1 = fig.add_subplot(1,4,1)\n",
    "ax2 = fig.add_subplot(1,4,2)\n",
    "ax3 = fig.add_subplot(1,4,3)\n",
    "ax4 = fig.add_subplot(1,4,4)\n",
    "\n",
    "\n",
    "ax1.set_title('Training',     fontsize=15)\n",
    "ax1.plot(iteration, DELTA[0:N], color='blue')  \n",
    "ax1.set_xlabel('iteration',    fontsize=15)\n",
    "ax1.set_ylabel('error', fontsize=15)\n",
    "\n",
    "ax2.set_title('Weight 0 evo',  fontsize=15)\n",
    "ax2.plot(iteration, w0[0:N], color='purple')  \n",
    "ax2.set_xlabel('iteration', fontsize=15)\n",
    "ax2.set_ylabel('w0',      fontsize=15)\n",
    "\n",
    "ax3.set_title('Weight 1 evo',  fontsize=15)\n",
    "ax3.plot(iteration, w1[0:N], color='gold')  \n",
    "ax3.set_xlabel('iteration', fontsize=15)\n",
    "ax3.set_ylabel('w1',      fontsize=15)\n",
    "\n",
    "ax4.set_title('Weight 2 evo',  fontsize=15)\n",
    "ax4.plot(iteration, w2[0:N], color='magenta')  \n",
    "ax4.set_xlabel('iteration', fontsize=15)\n",
    "ax4.set_ylabel('w2',      fontsize=15)\n",
    "\n",
    "plt.show()\n"
   ]
  },
  {
   "cell_type": "code",
   "execution_count": 155,
   "id": "a23dad78",
   "metadata": {},
   "outputs": [
    {
     "data": {
      "text/plain": [
       "(-0.21263105654417838, 0.15991866045128292, 0.07907221424868807)"
      ]
     },
     "execution_count": 155,
     "metadata": {},
     "output_type": "execute_result"
    }
   ],
   "source": [
    "w0[-1], w1[-1], w2[-1]"
   ]
  },
  {
   "cell_type": "markdown",
   "id": "726fe35c",
   "metadata": {},
   "source": [
    "### Test"
   ]
  },
  {
   "cell_type": "code",
   "execution_count": 159,
   "id": "ef720012",
   "metadata": {},
   "outputs": [
    {
     "name": "stdout",
     "output_type": "stream",
     "text": [
      "[array([0, 0]), [0]]\n",
      "[array([0, 1]), [0]]\n",
      "[array([1, 0]), [0]]\n",
      "[array([1, 1]), [1]]\n"
     ]
    }
   ],
   "source": [
    "Z = np.empty([0])\n",
    "z = np.empty([0])\n",
    "for j in np.arange(0,4):\n",
    "    Fv = X[j]@W[:,0]\n",
    "    if Fv >= 0:\n",
    "        Y = 1\n",
    "    else:\n",
    "        Y = 0\n",
    "    z = ([X[j,1:3], [Y]])\n",
    "    print(z)\n",
    "    Z = np.append(Z,z)\n",
    "\n",
    "\n"
   ]
  },
  {
   "cell_type": "code",
   "execution_count": 158,
   "id": "1b06f58f",
   "metadata": {},
   "outputs": [
    {
     "data": {
      "text/plain": [
       "array([array([0, 0]), list([0]), array([0, 1]), list([0]), array([1, 0]),\n",
       "       list([0]), array([1, 1]), list([1])], dtype=object)"
      ]
     },
     "execution_count": 158,
     "metadata": {},
     "output_type": "execute_result"
    }
   ],
   "source": [
    "Z"
   ]
  },
  {
   "cell_type": "code",
   "execution_count": null,
   "id": "c8e74f38",
   "metadata": {},
   "outputs": [],
   "source": []
  }
 ],
 "metadata": {
  "kernelspec": {
   "display_name": "Python 3 (ipykernel)",
   "language": "python",
   "name": "python3"
  },
  "language_info": {
   "codemirror_mode": {
    "name": "ipython",
    "version": 3
   },
   "file_extension": ".py",
   "mimetype": "text/x-python",
   "name": "python",
   "nbconvert_exporter": "python",
   "pygments_lexer": "ipython3",
   "version": "3.9.12"
  }
 },
 "nbformat": 4,
 "nbformat_minor": 5
}
